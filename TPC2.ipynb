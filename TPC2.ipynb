{
 "cells": [
  {
   "cell_type": "markdown",
   "id": "936b3364",
   "metadata": {},
   "source": [
    "# Jogo: Adivinha o número"
   ]
  },
  {
   "cell_type": "markdown",
   "id": "f6fc3a48",
   "metadata": {},
   "source": [
    "**Keyname**: TPC2  \n",
    "**Título**: Adivinha o Número      \n",
    "**Data de início:** 2020/10/14   \n",
    "**Data de fim:** 2020/10/21  \n",
    "**Supervisor:** [José Carlos Leite Ramalho](https://algoritmi.uminho.pt/user/jose-carlos-leite-ramalho/)  \n",
    "**Autor:** Beatriz Taveira Alves Lage Rodrigues (A95678)   \n",
    "**Resumo:** O objetivo do jogo é o utilizador escolher um número inteiro de 0 a 100 e o computador tem de adivinhá-lo no menor número de jogadas possíveis com as indicações *cima* (o número escolhido pelo jogador está acima do indicado pelo computador) ou *baixo* (o número escolhido pelo jogador está abaixo do indicado pelo computador). Quando o número sugerido pelo computador for o correto, o jogador responde *sim* e o jogo termina."
   ]
  },
  {
   "cell_type": "code",
   "execution_count": null,
   "id": "bc28f947",
   "metadata": {},
   "outputs": [],
   "source": [
    "def adivinha_numero():\n",
    "    n_pos=range(0,101)\n",
    "    número_jogadas=0\n",
    "    print(\"Pense num número inteiro de 0 a 100\")\n",
    "    \n",
    "    while número_jogadas< 8:\n",
    "        n=round(len(n_pos)/2)\n",
    "        variavel=input(\"O número é \" + str(n_pos[n]) + \"? (sim, cima, baixo)\\n\")\n",
    "        \n",
    "        if variavel==\"sim\":\n",
    "            print(\"O seu número foi encontrado. É o \" + str(n_pos[n]))\n",
    "            break\n",
    "                       \n",
    "        if variavel==\"cima\":\n",
    "            n_pos=n_pos[n:n_pos[-1]]\n",
    "            número_jogadas+=1\n",
    "                \n",
    "        elif variavel==\"baixo\":\n",
    "            n_pos=n_pos[0:n]\n",
    "            número_jogadas+=1\n",
    "\n",
    "        else:\n",
    "            print(\"Deve inserir: sim, cima ou baixo!\")\n",
    "            \n",
    "adivinha_numero()"
   ]
  }
 ],
 "metadata": {
  "kernelspec": {
   "display_name": "Python 3",
   "language": "python",
   "name": "python3"
  },
  "language_info": {
   "codemirror_mode": {
    "name": "ipython",
    "version": 3
   },
   "file_extension": ".py",
   "mimetype": "text/x-python",
   "name": "python",
   "nbconvert_exporter": "python",
   "pygments_lexer": "ipython3",
   "version": "3.8.8"
  }
 },
 "nbformat": 4,
 "nbformat_minor": 5
}
